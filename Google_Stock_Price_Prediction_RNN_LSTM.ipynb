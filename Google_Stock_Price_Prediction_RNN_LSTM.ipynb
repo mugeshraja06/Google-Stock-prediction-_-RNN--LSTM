{
  "nbformat": 4,
  "nbformat_minor": 0,
  "metadata": {
    "colab": {
      "name": "Google Stock Price Prediction_RNN-LSTM",
      "provenance": [],
      "collapsed_sections": [],
      "authorship_tag": "ABX9TyPIGy47Xg0XtxFeiu8O1PD9",
      "include_colab_link": true
    },
    "kernelspec": {
      "name": "python3",
      "display_name": "Python 3"
    }
  },
  "cells": [
    {
      "cell_type": "markdown",
      "metadata": {
        "id": "view-in-github",
        "colab_type": "text"
      },
      "source": [
        "<a href=\"https://colab.research.google.com/github/mugeshraja06/Google-Stock-prediction-_-RNN--LSTM/blob/master/Google_Stock_Price_Prediction_RNN_LSTM.ipynb\" target=\"_parent\"><img src=\"https://colab.research.google.com/assets/colab-badge.svg\" alt=\"Open In Colab\"/></a>"
      ]
    },
    {
      "cell_type": "code",
      "metadata": {
        "id": "JC4lag0Un-oC",
        "colab_type": "code",
        "outputId": "ca543824-ea33-4e4a-8dcf-bdaa643393bf",
        "colab": {
          "base_uri": "https://localhost:8080/",
          "height": 394
        }
      },
      "source": [
        "!pip install tensorflow-gpu==2.0.0-rc0"
      ],
      "execution_count": 0,
      "outputs": [
        {
          "output_type": "stream",
          "text": [
            "Requirement already satisfied: tensorflow-gpu==2.0.0-rc0 in /usr/local/lib/python3.6/dist-packages (2.0.0rc0)\n",
            "Requirement already satisfied: grpcio>=1.8.6 in /usr/local/lib/python3.6/dist-packages (from tensorflow-gpu==2.0.0-rc0) (1.15.0)\n",
            "Requirement already satisfied: tf-estimator-nightly<1.14.0.dev2019080602,>=1.14.0.dev2019080601 in /usr/local/lib/python3.6/dist-packages (from tensorflow-gpu==2.0.0-rc0) (1.14.0.dev2019080601)\n",
            "Requirement already satisfied: wrapt>=1.11.1 in /usr/local/lib/python3.6/dist-packages (from tensorflow-gpu==2.0.0-rc0) (1.11.2)\n",
            "Requirement already satisfied: termcolor>=1.1.0 in /usr/local/lib/python3.6/dist-packages (from tensorflow-gpu==2.0.0-rc0) (1.1.0)\n",
            "Requirement already satisfied: tb-nightly<1.15.0a20190807,>=1.15.0a20190806 in /usr/local/lib/python3.6/dist-packages (from tensorflow-gpu==2.0.0-rc0) (1.15.0a20190806)\n",
            "Requirement already satisfied: astor>=0.6.0 in /usr/local/lib/python3.6/dist-packages (from tensorflow-gpu==2.0.0-rc0) (0.8.1)\n",
            "Requirement already satisfied: gast>=0.2.0 in /usr/local/lib/python3.6/dist-packages (from tensorflow-gpu==2.0.0-rc0) (0.2.2)\n",
            "Requirement already satisfied: keras-applications>=1.0.8 in /usr/local/lib/python3.6/dist-packages (from tensorflow-gpu==2.0.0-rc0) (1.0.8)\n",
            "Requirement already satisfied: protobuf>=3.6.1 in /usr/local/lib/python3.6/dist-packages (from tensorflow-gpu==2.0.0-rc0) (3.10.0)\n",
            "Requirement already satisfied: wheel>=0.26 in /usr/local/lib/python3.6/dist-packages (from tensorflow-gpu==2.0.0-rc0) (0.34.2)\n",
            "Requirement already satisfied: keras-preprocessing>=1.0.5 in /usr/local/lib/python3.6/dist-packages (from tensorflow-gpu==2.0.0-rc0) (1.1.0)\n",
            "Requirement already satisfied: google-pasta>=0.1.6 in /usr/local/lib/python3.6/dist-packages (from tensorflow-gpu==2.0.0-rc0) (0.1.8)\n",
            "Requirement already satisfied: numpy<2.0,>=1.16.0 in /usr/local/lib/python3.6/dist-packages (from tensorflow-gpu==2.0.0-rc0) (1.17.5)\n",
            "Requirement already satisfied: absl-py>=0.7.0 in /usr/local/lib/python3.6/dist-packages (from tensorflow-gpu==2.0.0-rc0) (0.9.0)\n",
            "Requirement already satisfied: opt-einsum>=2.3.2 in /usr/local/lib/python3.6/dist-packages (from tensorflow-gpu==2.0.0-rc0) (3.1.0)\n",
            "Requirement already satisfied: six>=1.10.0 in /usr/local/lib/python3.6/dist-packages (from tensorflow-gpu==2.0.0-rc0) (1.12.0)\n",
            "Requirement already satisfied: werkzeug>=0.11.15 in /usr/local/lib/python3.6/dist-packages (from tb-nightly<1.15.0a20190807,>=1.15.0a20190806->tensorflow-gpu==2.0.0-rc0) (0.16.1)\n",
            "Requirement already satisfied: setuptools>=41.0.0 in /usr/local/lib/python3.6/dist-packages (from tb-nightly<1.15.0a20190807,>=1.15.0a20190806->tensorflow-gpu==2.0.0-rc0) (45.1.0)\n",
            "Requirement already satisfied: markdown>=2.6.8 in /usr/local/lib/python3.6/dist-packages (from tb-nightly<1.15.0a20190807,>=1.15.0a20190806->tensorflow-gpu==2.0.0-rc0) (3.1.1)\n",
            "Requirement already satisfied: h5py in /usr/local/lib/python3.6/dist-packages (from keras-applications>=1.0.8->tensorflow-gpu==2.0.0-rc0) (2.8.0)\n"
          ],
          "name": "stdout"
        }
      ]
    },
    {
      "cell_type": "code",
      "metadata": {
        "id": "47LBiPWvoJAR",
        "colab_type": "code",
        "colab": {}
      },
      "source": [
        "import tensorflow as tf"
      ],
      "execution_count": 0,
      "outputs": []
    },
    {
      "cell_type": "code",
      "metadata": {
        "id": "DnpK35vooJDg",
        "colab_type": "code",
        "outputId": "33f8f16c-3252-4293-f312-c7babc48efc4",
        "colab": {
          "base_uri": "https://localhost:8080/",
          "height": 34
        }
      },
      "source": [
        "print(tf.__version__)"
      ],
      "execution_count": 0,
      "outputs": [
        {
          "output_type": "stream",
          "text": [
            "2.0.0-rc0\n"
          ],
          "name": "stdout"
        }
      ]
    },
    {
      "cell_type": "code",
      "metadata": {
        "id": "ZfoWi67JoJGO",
        "colab_type": "code",
        "colab": {}
      },
      "source": [
        "from tensorflow import keras\n",
        "from tensorflow.keras import Sequential\n",
        "from tensorflow.keras.layers import  Dense, LSTM, Dropout"
      ],
      "execution_count": 0,
      "outputs": []
    },
    {
      "cell_type": "code",
      "metadata": {
        "id": "gXo3GqQeoJSD",
        "colab_type": "code",
        "colab": {}
      },
      "source": [
        "import pandas as pd\n",
        "import numpy as np\n",
        "import matplotlib.pyplot as plt\n",
        "from sklearn.metrics import mean_squared_error\n",
        "from sklearn.preprocessing import StandardScaler, LabelEncoder, MinMaxScaler"
      ],
      "execution_count": 0,
      "outputs": []
    },
    {
      "cell_type": "code",
      "metadata": {
        "id": "9PSmhA1EoJWn",
        "colab_type": "code",
        "outputId": "c90e6f08-555a-48be-fe48-a9ad76db27c9",
        "colab": {
          "base_uri": "https://localhost:8080/",
          "height": 204
        }
      },
      "source": [
        "data = pd.read_csv('/content/GOOG.csv', date_parser = True)\n",
        "data.tail()"
      ],
      "execution_count": 0,
      "outputs": [
        {
          "output_type": "execute_result",
          "data": {
            "text/html": [
              "<div>\n",
              "<style scoped>\n",
              "    .dataframe tbody tr th:only-of-type {\n",
              "        vertical-align: middle;\n",
              "    }\n",
              "\n",
              "    .dataframe tbody tr th {\n",
              "        vertical-align: top;\n",
              "    }\n",
              "\n",
              "    .dataframe thead th {\n",
              "        text-align: right;\n",
              "    }\n",
              "</style>\n",
              "<table border=\"1\" class=\"dataframe\">\n",
              "  <thead>\n",
              "    <tr style=\"text-align: right;\">\n",
              "      <th></th>\n",
              "      <th>Date</th>\n",
              "      <th>Open</th>\n",
              "      <th>High</th>\n",
              "      <th>Low</th>\n",
              "      <th>Close</th>\n",
              "      <th>Adj Close</th>\n",
              "      <th>Volume</th>\n",
              "    </tr>\n",
              "  </thead>\n",
              "  <tbody>\n",
              "    <tr>\n",
              "      <th>3891</th>\n",
              "      <td>2020-02-04</td>\n",
              "      <td>1457.069946</td>\n",
              "      <td>1469.500000</td>\n",
              "      <td>1426.300049</td>\n",
              "      <td>1447.069946</td>\n",
              "      <td>1447.069946</td>\n",
              "      <td>3933000</td>\n",
              "    </tr>\n",
              "    <tr>\n",
              "      <th>3892</th>\n",
              "      <td>2020-02-05</td>\n",
              "      <td>1462.420044</td>\n",
              "      <td>1463.839966</td>\n",
              "      <td>1430.560059</td>\n",
              "      <td>1448.229980</td>\n",
              "      <td>1448.229980</td>\n",
              "      <td>1986200</td>\n",
              "    </tr>\n",
              "    <tr>\n",
              "      <th>3893</th>\n",
              "      <td>2020-02-06</td>\n",
              "      <td>1450.329956</td>\n",
              "      <td>1482.000000</td>\n",
              "      <td>1449.569946</td>\n",
              "      <td>1476.229980</td>\n",
              "      <td>1476.229980</td>\n",
              "      <td>1679400</td>\n",
              "    </tr>\n",
              "    <tr>\n",
              "      <th>3894</th>\n",
              "      <td>2020-02-07</td>\n",
              "      <td>1467.300049</td>\n",
              "      <td>1485.839966</td>\n",
              "      <td>1466.349976</td>\n",
              "      <td>1479.229980</td>\n",
              "      <td>1479.229980</td>\n",
              "      <td>1171300</td>\n",
              "    </tr>\n",
              "    <tr>\n",
              "      <th>3895</th>\n",
              "      <td>2020-02-10</td>\n",
              "      <td>1474.319946</td>\n",
              "      <td>1500.819946</td>\n",
              "      <td>1474.319946</td>\n",
              "      <td>1499.810059</td>\n",
              "      <td>1499.810059</td>\n",
              "      <td>882038</td>\n",
              "    </tr>\n",
              "  </tbody>\n",
              "</table>\n",
              "</div>"
            ],
            "text/plain": [
              "            Date         Open         High  ...        Close    Adj Close   Volume\n",
              "3891  2020-02-04  1457.069946  1469.500000  ...  1447.069946  1447.069946  3933000\n",
              "3892  2020-02-05  1462.420044  1463.839966  ...  1448.229980  1448.229980  1986200\n",
              "3893  2020-02-06  1450.329956  1482.000000  ...  1476.229980  1476.229980  1679400\n",
              "3894  2020-02-07  1467.300049  1485.839966  ...  1479.229980  1479.229980  1171300\n",
              "3895  2020-02-10  1474.319946  1500.819946  ...  1499.810059  1499.810059   882038\n",
              "\n",
              "[5 rows x 7 columns]"
            ]
          },
          "metadata": {
            "tags": []
          },
          "execution_count": 130
        }
      ]
    },
    {
      "cell_type": "code",
      "metadata": {
        "id": "qCq1z9fAoJbr",
        "colab_type": "code",
        "colab": {}
      },
      "source": [
        "\n",
        "data_training = data[data['Date']<'2019-01-01'].copy()\n",
        "data_test = data[data['Date']>='2019-01-01'].copy()"
      ],
      "execution_count": 0,
      "outputs": []
    },
    {
      "cell_type": "code",
      "metadata": {
        "id": "i3GF2wbeoJe0",
        "colab_type": "code",
        "colab": {}
      },
      "source": [
        "data_training = data_training.drop(['Date', 'Adj Close'], axis = 1)"
      ],
      "execution_count": 0,
      "outputs": []
    },
    {
      "cell_type": "code",
      "metadata": {
        "id": "GqUELJnsoJiU",
        "colab_type": "code",
        "outputId": "ff3cb1eb-3e2d-4c18-a85a-61d7463f2578",
        "colab": {
          "base_uri": "https://localhost:8080/",
          "height": 238
        }
      },
      "source": [
        "scaler = MinMaxScaler()\n",
        "data_training = scaler.fit_transform(data_training)\n",
        "data_training"
      ],
      "execution_count": 0,
      "outputs": [
        {
          "output_type": "execute_result",
          "data": {
            "text/plain": [
              "array([[3.30294890e-04, 9.44785459e-04, 0.00000000e+00, 1.34908021e-04,\n",
              "        5.43577404e-01],\n",
              "       [7.42148227e-04, 2.98909923e-03, 1.88269054e-03, 3.39307537e-03,\n",
              "        2.77885613e-01],\n",
              "       [4.71386886e-03, 4.78092896e-03, 5.42828241e-03, 3.83867225e-03,\n",
              "        2.22150736e-01],\n",
              "       ...,\n",
              "       [7.92197108e-01, 8.11970141e-01, 7.90196475e-01, 8.15799920e-01,\n",
              "        2.54672037e-02],\n",
              "       [8.18777193e-01, 8.21510648e-01, 8.20249255e-01, 8.10219301e-01,\n",
              "        1.70463908e-02],\n",
              "       [8.19874096e-01, 8.19172449e-01, 8.12332341e-01, 8.09012935e-01,\n",
              "        1.79975186e-02]])"
            ]
          },
          "metadata": {
            "tags": []
          },
          "execution_count": 133
        }
      ]
    },
    {
      "cell_type": "markdown",
      "metadata": {
        "id": "NVU7WL-pu1Lt",
        "colab_type": "text"
      },
      "source": [
        "create RNN with 60 timesteps, i.e. look 60 previous time steps"
      ]
    },
    {
      "cell_type": "code",
      "metadata": {
        "id": "DP47rbM9oJtQ",
        "colab_type": "code",
        "outputId": "4789bab3-d221-4f53-9b43-3c361cf97320",
        "colab": {
          "base_uri": "https://localhost:8080/",
          "height": 357
        }
      },
      "source": [
        "data_training[0:10]"
      ],
      "execution_count": 0,
      "outputs": [
        {
          "output_type": "execute_result",
          "data": {
            "text/plain": [
              "array([[3.30294890e-04, 9.44785459e-04, 0.00000000e+00, 1.34908021e-04,\n",
              "        5.43577404e-01],\n",
              "       [7.42148227e-04, 2.98909923e-03, 1.88269054e-03, 3.39307537e-03,\n",
              "        2.77885613e-01],\n",
              "       [4.71386886e-03, 4.78092896e-03, 5.42828241e-03, 3.83867225e-03,\n",
              "        2.22150736e-01],\n",
              "       [4.91367646e-03, 4.01532941e-03, 3.15578542e-03, 1.98678849e-03,\n",
              "        1.85522018e-01],\n",
              "       [2.35285614e-03, 2.54928676e-03, 3.28434064e-03, 2.44873974e-03,\n",
              "        1.11762967e-01],\n",
              "       [2.34877785e-03, 2.52892558e-03, 3.60779701e-03, 3.22955376e-03,\n",
              "        8.62763771e-02],\n",
              "       [3.63326671e-03, 2.80177162e-03, 4.03492722e-03, 2.51005881e-03,\n",
              "        7.55243925e-02],\n",
              "       [2.48334262e-03, 1.52712947e-03, 2.50886935e-03, 8.17608079e-04,\n",
              "        6.31682127e-02],\n",
              "       [1.26817570e-03, 8.02253103e-04, 2.57107531e-03, 9.64778600e-04,\n",
              "        5.97732318e-02],\n",
              "       [1.43128522e-03, 5.00900100e-04, 1.53849690e-03, 9.81131336e-05,\n",
              "        1.11151095e-01]])"
            ]
          },
          "metadata": {
            "tags": []
          },
          "execution_count": 134
        }
      ]
    },
    {
      "cell_type": "code",
      "metadata": {
        "id": "gMZmgWFhoJaX",
        "colab_type": "code",
        "colab": {}
      },
      "source": [
        "\n",
        "X_train = []\n",
        "y_train = []\n",
        "\n",
        "\n",
        "\n",
        "for i in range(60, data_training.shape[0]):\n",
        "    X_train.append(data_training[i-60:i])\n",
        "    y_train.append(data_training[i, 0])"
      ],
      "execution_count": 0,
      "outputs": []
    },
    {
      "cell_type": "code",
      "metadata": {
        "id": "jmLgUR8loJVJ",
        "colab_type": "code",
        "colab": {}
      },
      "source": [
        "X_train, y_train = np.array(X_train), np.array(y_train)"
      ],
      "execution_count": 0,
      "outputs": []
    },
    {
      "cell_type": "code",
      "metadata": {
        "id": "0Kb8NE4ooJQ_",
        "colab_type": "code",
        "outputId": "bfc54e7a-7c34-472a-94f3-78509cf8e852",
        "colab": {
          "base_uri": "https://localhost:8080/",
          "height": 34
        }
      },
      "source": [
        "X_train.shape"
      ],
      "execution_count": 0,
      "outputs": [
        {
          "output_type": "execute_result",
          "data": {
            "text/plain": [
              "(3557, 60, 5)"
            ]
          },
          "metadata": {
            "tags": []
          },
          "execution_count": 137
        }
      ]
    },
    {
      "cell_type": "code",
      "metadata": {
        "id": "Qzx9DKstoJP7",
        "colab_type": "code",
        "outputId": "b5d5d9ae-6d2e-4f7e-8d79-f1af5f3b169f",
        "colab": {
          "base_uri": "https://localhost:8080/",
          "height": 51
        }
      },
      "source": [
        "y_train"
      ],
      "execution_count": 0,
      "outputs": [
        {
          "output_type": "execute_result",
          "data": {
            "text/plain": [
              "array([0.03508488, 0.03313572, 0.03193279, ..., 0.79219711, 0.81877719,\n",
              "       0.8198741 ])"
            ]
          },
          "metadata": {
            "tags": []
          },
          "execution_count": 138
        }
      ]
    },
    {
      "cell_type": "markdown",
      "metadata": {
        "id": "_Pm7OmIsvMqz",
        "colab_type": "text"
      },
      "source": [
        "Building LSTM"
      ]
    },
    {
      "cell_type": "code",
      "metadata": {
        "id": "WTFof8mioJNP",
        "colab_type": "code",
        "colab": {}
      },
      "source": [
        "regressior = Sequential()\n",
        "\n",
        "regressior.add(LSTM(units = 60, activation = 'relu', return_sequences = True, input_shape = (X_train.shape[1], 5)))\n",
        "regressior.add(Dropout(0.2))\n",
        "\n",
        "regressior.add(LSTM(units = 60, activation = 'relu', return_sequences = True))\n",
        "regressior.add(Dropout(0.2))\n",
        "\n",
        "regressior.add(LSTM(units = 80, activation = 'relu', return_sequences = True))\n",
        "regressior.add(Dropout(0.2))\n",
        "\n",
        "regressior.add(LSTM(units = 120, activation = 'relu'))\n",
        "regressior.add(Dropout(0.2))\n",
        "\n",
        "regressior.add(Dense(units = 1))"
      ],
      "execution_count": 0,
      "outputs": []
    },
    {
      "cell_type": "code",
      "metadata": {
        "id": "6KaKS-yALbEf",
        "colab_type": "code",
        "outputId": "5c265e18-beb0-4cc5-8c22-4cc0cb0b0d56",
        "colab": {
          "base_uri": "https://localhost:8080/",
          "height": 34
        }
      },
      "source": [
        "(X_train.shape[1], 5)"
      ],
      "execution_count": 0,
      "outputs": [
        {
          "output_type": "execute_result",
          "data": {
            "text/plain": [
              "(60, 5)"
            ]
          },
          "metadata": {
            "tags": []
          },
          "execution_count": 140
        }
      ]
    },
    {
      "cell_type": "code",
      "metadata": {
        "id": "LKwJ8exWoI-f",
        "colab_type": "code",
        "outputId": "07058e5e-d8bc-4f9c-c30b-686d79068985",
        "colab": {
          "base_uri": "https://localhost:8080/",
          "height": 459
        }
      },
      "source": [
        "regressior.summary()"
      ],
      "execution_count": 0,
      "outputs": [
        {
          "output_type": "stream",
          "text": [
            "Model: \"sequential_4\"\n",
            "_________________________________________________________________\n",
            "Layer (type)                 Output Shape              Param #   \n",
            "=================================================================\n",
            "lstm_16 (LSTM)               (None, 60, 60)            15840     \n",
            "_________________________________________________________________\n",
            "dropout_16 (Dropout)         (None, 60, 60)            0         \n",
            "_________________________________________________________________\n",
            "lstm_17 (LSTM)               (None, 60, 60)            29040     \n",
            "_________________________________________________________________\n",
            "dropout_17 (Dropout)         (None, 60, 60)            0         \n",
            "_________________________________________________________________\n",
            "lstm_18 (LSTM)               (None, 60, 80)            45120     \n",
            "_________________________________________________________________\n",
            "dropout_18 (Dropout)         (None, 60, 80)            0         \n",
            "_________________________________________________________________\n",
            "lstm_19 (LSTM)               (None, 120)               96480     \n",
            "_________________________________________________________________\n",
            "dropout_19 (Dropout)         (None, 120)               0         \n",
            "_________________________________________________________________\n",
            "dense_4 (Dense)              (None, 1)                 121       \n",
            "=================================================================\n",
            "Total params: 186,601\n",
            "Trainable params: 186,601\n",
            "Non-trainable params: 0\n",
            "_________________________________________________________________\n"
          ],
          "name": "stdout"
        }
      ]
    },
    {
      "cell_type": "code",
      "metadata": {
        "id": "CNDJVvyLvTlN",
        "colab_type": "code",
        "colab": {}
      },
      "source": [
        "regressior.compile(optimizer='adam', loss = 'mean_squared_error')"
      ],
      "execution_count": 0,
      "outputs": []
    },
    {
      "cell_type": "code",
      "metadata": {
        "id": "AdmTCuOfvTsH",
        "colab_type": "code",
        "outputId": "8f275fad-6950-4b45-c150-e0edf7f38978",
        "colab": {
          "base_uri": "https://localhost:8080/",
          "height": 1000
        }
      },
      "source": [
        "regressior.fit(X_train, y_train, epochs=50, batch_size=32)"
      ],
      "execution_count": 0,
      "outputs": [
        {
          "output_type": "stream",
          "text": [
            "Train on 3557 samples\n",
            "Epoch 1/50\n",
            "3557/3557 [==============================] - 30s 8ms/sample - loss: 0.0116\n",
            "Epoch 2/50\n",
            "3557/3557 [==============================] - 26s 7ms/sample - loss: 0.0018\n",
            "Epoch 3/50\n",
            "3557/3557 [==============================] - 26s 7ms/sample - loss: 0.0017\n",
            "Epoch 4/50\n",
            "3557/3557 [==============================] - 26s 7ms/sample - loss: 0.0021\n",
            "Epoch 5/50\n",
            "3557/3557 [==============================] - 26s 7ms/sample - loss: 0.0017\n",
            "Epoch 6/50\n",
            "3557/3557 [==============================] - 26s 7ms/sample - loss: 0.0015\n",
            "Epoch 7/50\n",
            "3557/3557 [==============================] - 26s 7ms/sample - loss: 0.0014\n",
            "Epoch 8/50\n",
            "3557/3557 [==============================] - 26s 7ms/sample - loss: 0.0012\n",
            "Epoch 9/50\n",
            "3557/3557 [==============================] - 26s 7ms/sample - loss: 0.0012\n",
            "Epoch 10/50\n",
            "3557/3557 [==============================] - 25s 7ms/sample - loss: 0.0013\n",
            "Epoch 11/50\n",
            "3557/3557 [==============================] - 26s 7ms/sample - loss: 0.0012\n",
            "Epoch 12/50\n",
            "3557/3557 [==============================] - 26s 7ms/sample - loss: 0.0012\n",
            "Epoch 13/50\n",
            "3557/3557 [==============================] - 25s 7ms/sample - loss: 0.0011\n",
            "Epoch 14/50\n",
            "3557/3557 [==============================] - 26s 7ms/sample - loss: 0.0011\n",
            "Epoch 15/50\n",
            "3557/3557 [==============================] - 26s 7ms/sample - loss: 0.0011\n",
            "Epoch 16/50\n",
            "3557/3557 [==============================] - 27s 8ms/sample - loss: 0.0011\n",
            "Epoch 17/50\n",
            "3557/3557 [==============================] - 26s 7ms/sample - loss: 0.0011\n",
            "Epoch 18/50\n",
            "3557/3557 [==============================] - 26s 7ms/sample - loss: 0.0010\n",
            "Epoch 19/50\n",
            "3557/3557 [==============================] - 25s 7ms/sample - loss: 8.7865e-04\n",
            "Epoch 20/50\n",
            "3557/3557 [==============================] - 26s 7ms/sample - loss: 8.7918e-04\n",
            "Epoch 21/50\n",
            "3557/3557 [==============================] - 25s 7ms/sample - loss: 8.2279e-04\n",
            "Epoch 22/50\n",
            "3557/3557 [==============================] - 26s 7ms/sample - loss: 8.9244e-04\n",
            "Epoch 23/50\n",
            "3557/3557 [==============================] - 25s 7ms/sample - loss: 9.7652e-04\n",
            "Epoch 24/50\n",
            "3557/3557 [==============================] - 26s 7ms/sample - loss: 9.6521e-04\n",
            "Epoch 25/50\n",
            "3557/3557 [==============================] - 26s 7ms/sample - loss: 8.6780e-04\n",
            "Epoch 26/50\n",
            "3557/3557 [==============================] - 26s 7ms/sample - loss: 7.6333e-04\n",
            "Epoch 27/50\n",
            "3557/3557 [==============================] - 26s 7ms/sample - loss: 7.6585e-04\n",
            "Epoch 28/50\n",
            "3557/3557 [==============================] - 26s 7ms/sample - loss: 8.3164e-04\n",
            "Epoch 29/50\n",
            "3557/3557 [==============================] - 26s 7ms/sample - loss: 7.8479e-04\n",
            "Epoch 30/50\n",
            "3557/3557 [==============================] - 26s 7ms/sample - loss: 7.0337e-04\n",
            "Epoch 31/50\n",
            "3557/3557 [==============================] - 26s 7ms/sample - loss: 7.6257e-04\n",
            "Epoch 32/50\n",
            "3557/3557 [==============================] - 26s 7ms/sample - loss: 9.1200e-04\n",
            "Epoch 33/50\n",
            "3557/3557 [==============================] - 26s 7ms/sample - loss: 6.8168e-04\n",
            "Epoch 34/50\n",
            "3557/3557 [==============================] - 26s 7ms/sample - loss: 6.5559e-04\n",
            "Epoch 35/50\n",
            "3557/3557 [==============================] - 26s 7ms/sample - loss: 7.4828e-04\n",
            "Epoch 36/50\n",
            "3557/3557 [==============================] - 26s 7ms/sample - loss: 6.7813e-04\n",
            "Epoch 37/50\n",
            "3557/3557 [==============================] - 26s 7ms/sample - loss: 6.7560e-04\n",
            "Epoch 38/50\n",
            "3557/3557 [==============================] - 25s 7ms/sample - loss: 6.4979e-04\n",
            "Epoch 39/50\n",
            "3557/3557 [==============================] - 26s 7ms/sample - loss: 6.8997e-04\n",
            "Epoch 40/50\n",
            "3557/3557 [==============================] - 26s 7ms/sample - loss: 6.6208e-04\n",
            "Epoch 41/50\n",
            "3557/3557 [==============================] - 26s 7ms/sample - loss: 7.6627e-04\n",
            "Epoch 42/50\n",
            "3557/3557 [==============================] - 26s 7ms/sample - loss: 6.5835e-04\n",
            "Epoch 43/50\n",
            "3557/3557 [==============================] - 26s 7ms/sample - loss: 6.3469e-04\n",
            "Epoch 44/50\n",
            "3557/3557 [==============================] - 25s 7ms/sample - loss: 6.4620e-04\n",
            "Epoch 45/50\n",
            "3557/3557 [==============================] - 26s 7ms/sample - loss: 6.2757e-04\n",
            "Epoch 46/50\n",
            "3557/3557 [==============================] - 26s 7ms/sample - loss: 5.9135e-04\n",
            "Epoch 47/50\n",
            "3557/3557 [==============================] - 25s 7ms/sample - loss: 6.1763e-04\n",
            "Epoch 48/50\n",
            "3557/3557 [==============================] - 26s 7ms/sample - loss: 6.5196e-04\n",
            "Epoch 49/50\n",
            "3557/3557 [==============================] - 26s 7ms/sample - loss: 6.1295e-04\n",
            "Epoch 50/50\n",
            "3557/3557 [==============================] - 26s 7ms/sample - loss: 6.7360e-04\n"
          ],
          "name": "stdout"
        },
        {
          "output_type": "execute_result",
          "data": {
            "text/plain": [
              "<tensorflow.python.keras.callbacks.History at 0x7f06b7c280b8>"
            ]
          },
          "metadata": {
            "tags": []
          },
          "execution_count": 143
        }
      ]
    },
    {
      "cell_type": "code",
      "metadata": {
        "id": "VJMkg6GxvTwP",
        "colab_type": "code",
        "colab": {}
      },
      "source": [
        ""
      ],
      "execution_count": 0,
      "outputs": []
    },
    {
      "cell_type": "markdown",
      "metadata": {
        "id": "vTyreZL_vbvp",
        "colab_type": "text"
      },
      "source": [
        "Prepare The Dataset"
      ]
    },
    {
      "cell_type": "code",
      "metadata": {
        "id": "Yf9fkNjQvTp6",
        "colab_type": "code",
        "outputId": "bdbcea15-9a46-4177-b089-3d3ad7c0776e",
        "colab": {
          "base_uri": "https://localhost:8080/",
          "height": 34
        }
      },
      "source": [
        "data_test.shape"
      ],
      "execution_count": 0,
      "outputs": [
        {
          "output_type": "execute_result",
          "data": {
            "text/plain": [
              "(279, 7)"
            ]
          },
          "metadata": {
            "tags": []
          },
          "execution_count": 144
        }
      ]
    },
    {
      "cell_type": "code",
      "metadata": {
        "id": "iW_UJoQBCy0_",
        "colab_type": "code",
        "outputId": "24075712-1be6-47b7-a87e-1294776d5277",
        "colab": {
          "base_uri": "https://localhost:8080/",
          "height": 204
        }
      },
      "source": [
        "data_test.head()"
      ],
      "execution_count": 0,
      "outputs": [
        {
          "output_type": "execute_result",
          "data": {
            "text/html": [
              "<div>\n",
              "<style scoped>\n",
              "    .dataframe tbody tr th:only-of-type {\n",
              "        vertical-align: middle;\n",
              "    }\n",
              "\n",
              "    .dataframe tbody tr th {\n",
              "        vertical-align: top;\n",
              "    }\n",
              "\n",
              "    .dataframe thead th {\n",
              "        text-align: right;\n",
              "    }\n",
              "</style>\n",
              "<table border=\"1\" class=\"dataframe\">\n",
              "  <thead>\n",
              "    <tr style=\"text-align: right;\">\n",
              "      <th></th>\n",
              "      <th>Date</th>\n",
              "      <th>Open</th>\n",
              "      <th>High</th>\n",
              "      <th>Low</th>\n",
              "      <th>Close</th>\n",
              "      <th>Adj Close</th>\n",
              "      <th>Volume</th>\n",
              "    </tr>\n",
              "  </thead>\n",
              "  <tbody>\n",
              "    <tr>\n",
              "      <th>3617</th>\n",
              "      <td>2019-01-02</td>\n",
              "      <td>1016.570007</td>\n",
              "      <td>1052.319946</td>\n",
              "      <td>1015.710022</td>\n",
              "      <td>1045.849976</td>\n",
              "      <td>1045.849976</td>\n",
              "      <td>1532600</td>\n",
              "    </tr>\n",
              "    <tr>\n",
              "      <th>3618</th>\n",
              "      <td>2019-01-03</td>\n",
              "      <td>1041.000000</td>\n",
              "      <td>1056.979980</td>\n",
              "      <td>1014.070007</td>\n",
              "      <td>1016.059998</td>\n",
              "      <td>1016.059998</td>\n",
              "      <td>1841100</td>\n",
              "    </tr>\n",
              "    <tr>\n",
              "      <th>3619</th>\n",
              "      <td>2019-01-04</td>\n",
              "      <td>1032.589966</td>\n",
              "      <td>1070.839966</td>\n",
              "      <td>1027.417969</td>\n",
              "      <td>1070.709961</td>\n",
              "      <td>1070.709961</td>\n",
              "      <td>2093900</td>\n",
              "    </tr>\n",
              "    <tr>\n",
              "      <th>3620</th>\n",
              "      <td>2019-01-07</td>\n",
              "      <td>1071.500000</td>\n",
              "      <td>1074.000000</td>\n",
              "      <td>1054.760010</td>\n",
              "      <td>1068.390015</td>\n",
              "      <td>1068.390015</td>\n",
              "      <td>1981900</td>\n",
              "    </tr>\n",
              "    <tr>\n",
              "      <th>3621</th>\n",
              "      <td>2019-01-08</td>\n",
              "      <td>1076.109985</td>\n",
              "      <td>1084.560059</td>\n",
              "      <td>1060.530029</td>\n",
              "      <td>1076.280029</td>\n",
              "      <td>1076.280029</td>\n",
              "      <td>1764900</td>\n",
              "    </tr>\n",
              "  </tbody>\n",
              "</table>\n",
              "</div>"
            ],
            "text/plain": [
              "            Date         Open         High  ...        Close    Adj Close   Volume\n",
              "3617  2019-01-02  1016.570007  1052.319946  ...  1045.849976  1045.849976  1532600\n",
              "3618  2019-01-03  1041.000000  1056.979980  ...  1016.059998  1016.059998  1841100\n",
              "3619  2019-01-04  1032.589966  1070.839966  ...  1070.709961  1070.709961  2093900\n",
              "3620  2019-01-07  1071.500000  1074.000000  ...  1068.390015  1068.390015  1981900\n",
              "3621  2019-01-08  1076.109985  1084.560059  ...  1076.280029  1076.280029  1764900\n",
              "\n",
              "[5 rows x 7 columns]"
            ]
          },
          "metadata": {
            "tags": []
          },
          "execution_count": 145
        }
      ]
    },
    {
      "cell_type": "code",
      "metadata": {
        "id": "bJu4RksmCegY",
        "colab_type": "code",
        "colab": {}
      },
      "source": [
        "data_train = data[data['Date']<'2019-01-01'].copy()"
      ],
      "execution_count": 0,
      "outputs": []
    },
    {
      "cell_type": "code",
      "metadata": {
        "id": "ql9b4kUmvTiz",
        "colab_type": "code",
        "outputId": "3ab1bdf1-3e42-441e-8d54-dced59d35944",
        "colab": {
          "base_uri": "https://localhost:8080/",
          "height": 1000
        }
      },
      "source": [
        "data_train.tail(60)"
      ],
      "execution_count": 0,
      "outputs": [
        {
          "output_type": "execute_result",
          "data": {
            "text/html": [
              "<div>\n",
              "<style scoped>\n",
              "    .dataframe tbody tr th:only-of-type {\n",
              "        vertical-align: middle;\n",
              "    }\n",
              "\n",
              "    .dataframe tbody tr th {\n",
              "        vertical-align: top;\n",
              "    }\n",
              "\n",
              "    .dataframe thead th {\n",
              "        text-align: right;\n",
              "    }\n",
              "</style>\n",
              "<table border=\"1\" class=\"dataframe\">\n",
              "  <thead>\n",
              "    <tr style=\"text-align: right;\">\n",
              "      <th></th>\n",
              "      <th>Date</th>\n",
              "      <th>Open</th>\n",
              "      <th>High</th>\n",
              "      <th>Low</th>\n",
              "      <th>Close</th>\n",
              "      <th>Adj Close</th>\n",
              "      <th>Volume</th>\n",
              "    </tr>\n",
              "  </thead>\n",
              "  <tbody>\n",
              "    <tr>\n",
              "      <th>3557</th>\n",
              "      <td>2018-10-04</td>\n",
              "      <td>1195.329956</td>\n",
              "      <td>1197.510010</td>\n",
              "      <td>1155.576050</td>\n",
              "      <td>1168.189941</td>\n",
              "      <td>1168.189941</td>\n",
              "      <td>2209500</td>\n",
              "    </tr>\n",
              "    <tr>\n",
              "      <th>3558</th>\n",
              "      <td>2018-10-05</td>\n",
              "      <td>1167.500000</td>\n",
              "      <td>1173.500000</td>\n",
              "      <td>1145.119995</td>\n",
              "      <td>1157.349976</td>\n",
              "      <td>1157.349976</td>\n",
              "      <td>1184300</td>\n",
              "    </tr>\n",
              "    <tr>\n",
              "      <th>3559</th>\n",
              "      <td>2018-10-08</td>\n",
              "      <td>1150.109985</td>\n",
              "      <td>1168.000000</td>\n",
              "      <td>1127.364014</td>\n",
              "      <td>1148.969971</td>\n",
              "      <td>1148.969971</td>\n",
              "      <td>1932400</td>\n",
              "    </tr>\n",
              "    <tr>\n",
              "      <th>3560</th>\n",
              "      <td>2018-10-09</td>\n",
              "      <td>1146.150024</td>\n",
              "      <td>1154.349976</td>\n",
              "      <td>1137.572021</td>\n",
              "      <td>1138.819946</td>\n",
              "      <td>1138.819946</td>\n",
              "      <td>1308700</td>\n",
              "    </tr>\n",
              "    <tr>\n",
              "      <th>3561</th>\n",
              "      <td>2018-10-10</td>\n",
              "      <td>1131.079956</td>\n",
              "      <td>1132.170044</td>\n",
              "      <td>1081.130005</td>\n",
              "      <td>1081.219971</td>\n",
              "      <td>1081.219971</td>\n",
              "      <td>2675700</td>\n",
              "    </tr>\n",
              "    <tr>\n",
              "      <th>3562</th>\n",
              "      <td>2018-10-11</td>\n",
              "      <td>1072.939941</td>\n",
              "      <td>1106.400024</td>\n",
              "      <td>1068.270020</td>\n",
              "      <td>1079.319946</td>\n",
              "      <td>1079.319946</td>\n",
              "      <td>2949000</td>\n",
              "    </tr>\n",
              "    <tr>\n",
              "      <th>3563</th>\n",
              "      <td>2018-10-12</td>\n",
              "      <td>1108.000000</td>\n",
              "      <td>1115.000000</td>\n",
              "      <td>1086.401978</td>\n",
              "      <td>1110.079956</td>\n",
              "      <td>1110.079956</td>\n",
              "      <td>2101300</td>\n",
              "    </tr>\n",
              "    <tr>\n",
              "      <th>3564</th>\n",
              "      <td>2018-10-15</td>\n",
              "      <td>1108.910034</td>\n",
              "      <td>1113.446045</td>\n",
              "      <td>1089.000000</td>\n",
              "      <td>1092.250000</td>\n",
              "      <td>1092.250000</td>\n",
              "      <td>1372400</td>\n",
              "    </tr>\n",
              "    <tr>\n",
              "      <th>3565</th>\n",
              "      <td>2018-10-16</td>\n",
              "      <td>1104.589966</td>\n",
              "      <td>1124.219971</td>\n",
              "      <td>1102.500000</td>\n",
              "      <td>1121.280029</td>\n",
              "      <td>1121.280029</td>\n",
              "      <td>1928500</td>\n",
              "    </tr>\n",
              "    <tr>\n",
              "      <th>3566</th>\n",
              "      <td>2018-10-17</td>\n",
              "      <td>1126.459961</td>\n",
              "      <td>1128.989990</td>\n",
              "      <td>1102.189941</td>\n",
              "      <td>1115.689941</td>\n",
              "      <td>1115.689941</td>\n",
              "      <td>1467200</td>\n",
              "    </tr>\n",
              "    <tr>\n",
              "      <th>3567</th>\n",
              "      <td>2018-10-18</td>\n",
              "      <td>1121.839966</td>\n",
              "      <td>1121.839966</td>\n",
              "      <td>1077.089966</td>\n",
              "      <td>1087.969971</td>\n",
              "      <td>1087.969971</td>\n",
              "      <td>2094500</td>\n",
              "    </tr>\n",
              "    <tr>\n",
              "      <th>3568</th>\n",
              "      <td>2018-10-19</td>\n",
              "      <td>1093.369995</td>\n",
              "      <td>1110.359985</td>\n",
              "      <td>1087.750000</td>\n",
              "      <td>1096.459961</td>\n",
              "      <td>1096.459961</td>\n",
              "      <td>1267600</td>\n",
              "    </tr>\n",
              "    <tr>\n",
              "      <th>3569</th>\n",
              "      <td>2018-10-22</td>\n",
              "      <td>1103.060059</td>\n",
              "      <td>1112.229980</td>\n",
              "      <td>1091.000000</td>\n",
              "      <td>1101.160034</td>\n",
              "      <td>1101.160034</td>\n",
              "      <td>1514200</td>\n",
              "    </tr>\n",
              "    <tr>\n",
              "      <th>3570</th>\n",
              "      <td>2018-10-23</td>\n",
              "      <td>1080.890015</td>\n",
              "      <td>1107.890015</td>\n",
              "      <td>1070.000000</td>\n",
              "      <td>1103.689941</td>\n",
              "      <td>1103.689941</td>\n",
              "      <td>1848700</td>\n",
              "    </tr>\n",
              "    <tr>\n",
              "      <th>3571</th>\n",
              "      <td>2018-10-24</td>\n",
              "      <td>1104.250000</td>\n",
              "      <td>1106.119995</td>\n",
              "      <td>1048.739990</td>\n",
              "      <td>1050.709961</td>\n",
              "      <td>1050.709961</td>\n",
              "      <td>1982400</td>\n",
              "    </tr>\n",
              "    <tr>\n",
              "      <th>3572</th>\n",
              "      <td>2018-10-25</td>\n",
              "      <td>1071.790039</td>\n",
              "      <td>1110.979980</td>\n",
              "      <td>1069.550049</td>\n",
              "      <td>1095.569946</td>\n",
              "      <td>1095.569946</td>\n",
              "      <td>2545800</td>\n",
              "    </tr>\n",
              "    <tr>\n",
              "      <th>3573</th>\n",
              "      <td>2018-10-26</td>\n",
              "      <td>1037.030029</td>\n",
              "      <td>1106.530029</td>\n",
              "      <td>1034.089966</td>\n",
              "      <td>1071.469971</td>\n",
              "      <td>1071.469971</td>\n",
              "      <td>4187600</td>\n",
              "    </tr>\n",
              "    <tr>\n",
              "      <th>3574</th>\n",
              "      <td>2018-10-29</td>\n",
              "      <td>1082.469971</td>\n",
              "      <td>1097.040039</td>\n",
              "      <td>995.830017</td>\n",
              "      <td>1020.080017</td>\n",
              "      <td>1020.080017</td>\n",
              "      <td>3880700</td>\n",
              "    </tr>\n",
              "    <tr>\n",
              "      <th>3575</th>\n",
              "      <td>2018-10-30</td>\n",
              "      <td>1008.460022</td>\n",
              "      <td>1037.489990</td>\n",
              "      <td>1000.750000</td>\n",
              "      <td>1036.209961</td>\n",
              "      <td>1036.209961</td>\n",
              "      <td>3212700</td>\n",
              "    </tr>\n",
              "    <tr>\n",
              "      <th>3576</th>\n",
              "      <td>2018-10-31</td>\n",
              "      <td>1059.810059</td>\n",
              "      <td>1091.939941</td>\n",
              "      <td>1057.000000</td>\n",
              "      <td>1076.770020</td>\n",
              "      <td>1076.770020</td>\n",
              "      <td>2529800</td>\n",
              "    </tr>\n",
              "    <tr>\n",
              "      <th>3577</th>\n",
              "      <td>2018-11-01</td>\n",
              "      <td>1075.800049</td>\n",
              "      <td>1083.974976</td>\n",
              "      <td>1062.459961</td>\n",
              "      <td>1070.000000</td>\n",
              "      <td>1070.000000</td>\n",
              "      <td>1482000</td>\n",
              "    </tr>\n",
              "    <tr>\n",
              "      <th>3578</th>\n",
              "      <td>2018-11-02</td>\n",
              "      <td>1073.729980</td>\n",
              "      <td>1082.974976</td>\n",
              "      <td>1054.609985</td>\n",
              "      <td>1057.790039</td>\n",
              "      <td>1057.790039</td>\n",
              "      <td>1839000</td>\n",
              "    </tr>\n",
              "    <tr>\n",
              "      <th>3579</th>\n",
              "      <td>2018-11-05</td>\n",
              "      <td>1055.000000</td>\n",
              "      <td>1058.469971</td>\n",
              "      <td>1021.239990</td>\n",
              "      <td>1040.089966</td>\n",
              "      <td>1040.089966</td>\n",
              "      <td>2441400</td>\n",
              "    </tr>\n",
              "    <tr>\n",
              "      <th>3580</th>\n",
              "      <td>2018-11-06</td>\n",
              "      <td>1039.479980</td>\n",
              "      <td>1064.344971</td>\n",
              "      <td>1038.069946</td>\n",
              "      <td>1055.810059</td>\n",
              "      <td>1055.810059</td>\n",
              "      <td>1233300</td>\n",
              "    </tr>\n",
              "    <tr>\n",
              "      <th>3581</th>\n",
              "      <td>2018-11-07</td>\n",
              "      <td>1069.000000</td>\n",
              "      <td>1095.459961</td>\n",
              "      <td>1065.900024</td>\n",
              "      <td>1093.390015</td>\n",
              "      <td>1093.390015</td>\n",
              "      <td>2058400</td>\n",
              "    </tr>\n",
              "    <tr>\n",
              "      <th>3582</th>\n",
              "      <td>2018-11-08</td>\n",
              "      <td>1091.380005</td>\n",
              "      <td>1093.270020</td>\n",
              "      <td>1072.204956</td>\n",
              "      <td>1082.400024</td>\n",
              "      <td>1082.400024</td>\n",
              "      <td>1488200</td>\n",
              "    </tr>\n",
              "    <tr>\n",
              "      <th>3583</th>\n",
              "      <td>2018-11-09</td>\n",
              "      <td>1073.989990</td>\n",
              "      <td>1075.560059</td>\n",
              "      <td>1053.109985</td>\n",
              "      <td>1066.150024</td>\n",
              "      <td>1066.150024</td>\n",
              "      <td>1343200</td>\n",
              "    </tr>\n",
              "    <tr>\n",
              "      <th>3584</th>\n",
              "      <td>2018-11-12</td>\n",
              "      <td>1061.390015</td>\n",
              "      <td>1062.119995</td>\n",
              "      <td>1031.000000</td>\n",
              "      <td>1038.630005</td>\n",
              "      <td>1038.630005</td>\n",
              "      <td>1471800</td>\n",
              "    </tr>\n",
              "    <tr>\n",
              "      <th>3585</th>\n",
              "      <td>2018-11-13</td>\n",
              "      <td>1043.290039</td>\n",
              "      <td>1056.604980</td>\n",
              "      <td>1031.150024</td>\n",
              "      <td>1036.050049</td>\n",
              "      <td>1036.050049</td>\n",
              "      <td>1513700</td>\n",
              "    </tr>\n",
              "    <tr>\n",
              "      <th>3586</th>\n",
              "      <td>2018-11-14</td>\n",
              "      <td>1050.000000</td>\n",
              "      <td>1054.563965</td>\n",
              "      <td>1031.000000</td>\n",
              "      <td>1043.660034</td>\n",
              "      <td>1043.660034</td>\n",
              "      <td>1565900</td>\n",
              "    </tr>\n",
              "    <tr>\n",
              "      <th>3587</th>\n",
              "      <td>2018-11-15</td>\n",
              "      <td>1044.709961</td>\n",
              "      <td>1071.849976</td>\n",
              "      <td>1031.780029</td>\n",
              "      <td>1064.709961</td>\n",
              "      <td>1064.709961</td>\n",
              "      <td>1836100</td>\n",
              "    </tr>\n",
              "    <tr>\n",
              "      <th>3588</th>\n",
              "      <td>2018-11-16</td>\n",
              "      <td>1059.410034</td>\n",
              "      <td>1067.000000</td>\n",
              "      <td>1048.979980</td>\n",
              "      <td>1061.489990</td>\n",
              "      <td>1061.489990</td>\n",
              "      <td>1658100</td>\n",
              "    </tr>\n",
              "    <tr>\n",
              "      <th>3589</th>\n",
              "      <td>2018-11-19</td>\n",
              "      <td>1057.199951</td>\n",
              "      <td>1060.790039</td>\n",
              "      <td>1016.260010</td>\n",
              "      <td>1020.000000</td>\n",
              "      <td>1020.000000</td>\n",
              "      <td>1858600</td>\n",
              "    </tr>\n",
              "    <tr>\n",
              "      <th>3590</th>\n",
              "      <td>2018-11-20</td>\n",
              "      <td>1000.000000</td>\n",
              "      <td>1031.739990</td>\n",
              "      <td>996.020020</td>\n",
              "      <td>1025.760010</td>\n",
              "      <td>1025.760010</td>\n",
              "      <td>2449100</td>\n",
              "    </tr>\n",
              "    <tr>\n",
              "      <th>3591</th>\n",
              "      <td>2018-11-21</td>\n",
              "      <td>1036.760010</td>\n",
              "      <td>1048.560059</td>\n",
              "      <td>1033.469971</td>\n",
              "      <td>1037.609985</td>\n",
              "      <td>1037.609985</td>\n",
              "      <td>1534300</td>\n",
              "    </tr>\n",
              "    <tr>\n",
              "      <th>3592</th>\n",
              "      <td>2018-11-23</td>\n",
              "      <td>1030.000000</td>\n",
              "      <td>1037.589966</td>\n",
              "      <td>1022.398987</td>\n",
              "      <td>1023.880005</td>\n",
              "      <td>1023.880005</td>\n",
              "      <td>691500</td>\n",
              "    </tr>\n",
              "    <tr>\n",
              "      <th>3593</th>\n",
              "      <td>2018-11-26</td>\n",
              "      <td>1038.349976</td>\n",
              "      <td>1049.310059</td>\n",
              "      <td>1033.910034</td>\n",
              "      <td>1048.619995</td>\n",
              "      <td>1048.619995</td>\n",
              "      <td>1942800</td>\n",
              "    </tr>\n",
              "    <tr>\n",
              "      <th>3594</th>\n",
              "      <td>2018-11-27</td>\n",
              "      <td>1041.000000</td>\n",
              "      <td>1057.579956</td>\n",
              "      <td>1038.489990</td>\n",
              "      <td>1044.410034</td>\n",
              "      <td>1044.410034</td>\n",
              "      <td>1803200</td>\n",
              "    </tr>\n",
              "    <tr>\n",
              "      <th>3595</th>\n",
              "      <td>2018-11-28</td>\n",
              "      <td>1048.760010</td>\n",
              "      <td>1086.839966</td>\n",
              "      <td>1035.760010</td>\n",
              "      <td>1086.229980</td>\n",
              "      <td>1086.229980</td>\n",
              "      <td>2475400</td>\n",
              "    </tr>\n",
              "    <tr>\n",
              "      <th>3596</th>\n",
              "      <td>2018-11-29</td>\n",
              "      <td>1076.079956</td>\n",
              "      <td>1094.244995</td>\n",
              "      <td>1076.000000</td>\n",
              "      <td>1088.300049</td>\n",
              "      <td>1088.300049</td>\n",
              "      <td>1468900</td>\n",
              "    </tr>\n",
              "    <tr>\n",
              "      <th>3597</th>\n",
              "      <td>2018-11-30</td>\n",
              "      <td>1089.069946</td>\n",
              "      <td>1095.569946</td>\n",
              "      <td>1077.880005</td>\n",
              "      <td>1094.430054</td>\n",
              "      <td>1094.430054</td>\n",
              "      <td>2580200</td>\n",
              "    </tr>\n",
              "    <tr>\n",
              "      <th>3598</th>\n",
              "      <td>2018-12-03</td>\n",
              "      <td>1123.140015</td>\n",
              "      <td>1124.650024</td>\n",
              "      <td>1103.665039</td>\n",
              "      <td>1106.430054</td>\n",
              "      <td>1106.430054</td>\n",
              "      <td>1991200</td>\n",
              "    </tr>\n",
              "    <tr>\n",
              "      <th>3599</th>\n",
              "      <td>2018-12-04</td>\n",
              "      <td>1103.119995</td>\n",
              "      <td>1104.420044</td>\n",
              "      <td>1049.979980</td>\n",
              "      <td>1050.819946</td>\n",
              "      <td>1050.819946</td>\n",
              "      <td>2345200</td>\n",
              "    </tr>\n",
              "    <tr>\n",
              "      <th>3600</th>\n",
              "      <td>2018-12-06</td>\n",
              "      <td>1034.260010</td>\n",
              "      <td>1071.199951</td>\n",
              "      <td>1030.770020</td>\n",
              "      <td>1068.729980</td>\n",
              "      <td>1068.729980</td>\n",
              "      <td>2769200</td>\n",
              "    </tr>\n",
              "    <tr>\n",
              "      <th>3601</th>\n",
              "      <td>2018-12-07</td>\n",
              "      <td>1060.010010</td>\n",
              "      <td>1075.260010</td>\n",
              "      <td>1028.500000</td>\n",
              "      <td>1036.579956</td>\n",
              "      <td>1036.579956</td>\n",
              "      <td>2101200</td>\n",
              "    </tr>\n",
              "    <tr>\n",
              "      <th>3602</th>\n",
              "      <td>2018-12-10</td>\n",
              "      <td>1035.050049</td>\n",
              "      <td>1048.449951</td>\n",
              "      <td>1023.289978</td>\n",
              "      <td>1039.550049</td>\n",
              "      <td>1039.550049</td>\n",
              "      <td>1807700</td>\n",
              "    </tr>\n",
              "    <tr>\n",
              "      <th>3603</th>\n",
              "      <td>2018-12-11</td>\n",
              "      <td>1056.489990</td>\n",
              "      <td>1060.599976</td>\n",
              "      <td>1039.839966</td>\n",
              "      <td>1051.750000</td>\n",
              "      <td>1051.750000</td>\n",
              "      <td>1394700</td>\n",
              "    </tr>\n",
              "    <tr>\n",
              "      <th>3604</th>\n",
              "      <td>2018-12-12</td>\n",
              "      <td>1068.000000</td>\n",
              "      <td>1081.650024</td>\n",
              "      <td>1062.790039</td>\n",
              "      <td>1063.680054</td>\n",
              "      <td>1063.680054</td>\n",
              "      <td>1523800</td>\n",
              "    </tr>\n",
              "    <tr>\n",
              "      <th>3605</th>\n",
              "      <td>2018-12-13</td>\n",
              "      <td>1068.069946</td>\n",
              "      <td>1079.760010</td>\n",
              "      <td>1053.930054</td>\n",
              "      <td>1061.900024</td>\n",
              "      <td>1061.900024</td>\n",
              "      <td>1329800</td>\n",
              "    </tr>\n",
              "    <tr>\n",
              "      <th>3606</th>\n",
              "      <td>2018-12-14</td>\n",
              "      <td>1049.979980</td>\n",
              "      <td>1062.599976</td>\n",
              "      <td>1040.790039</td>\n",
              "      <td>1042.099976</td>\n",
              "      <td>1042.099976</td>\n",
              "      <td>1686600</td>\n",
              "    </tr>\n",
              "    <tr>\n",
              "      <th>3607</th>\n",
              "      <td>2018-12-17</td>\n",
              "      <td>1037.510010</td>\n",
              "      <td>1053.150024</td>\n",
              "      <td>1007.900024</td>\n",
              "      <td>1016.530029</td>\n",
              "      <td>1016.530029</td>\n",
              "      <td>2385400</td>\n",
              "    </tr>\n",
              "    <tr>\n",
              "      <th>3608</th>\n",
              "      <td>2018-12-18</td>\n",
              "      <td>1026.089966</td>\n",
              "      <td>1049.479980</td>\n",
              "      <td>1021.440002</td>\n",
              "      <td>1028.709961</td>\n",
              "      <td>1028.709961</td>\n",
              "      <td>2192500</td>\n",
              "    </tr>\n",
              "    <tr>\n",
              "      <th>3609</th>\n",
              "      <td>2018-12-19</td>\n",
              "      <td>1033.989990</td>\n",
              "      <td>1062.000000</td>\n",
              "      <td>1008.049988</td>\n",
              "      <td>1023.010010</td>\n",
              "      <td>1023.010010</td>\n",
              "      <td>2479300</td>\n",
              "    </tr>\n",
              "    <tr>\n",
              "      <th>3610</th>\n",
              "      <td>2018-12-20</td>\n",
              "      <td>1018.130005</td>\n",
              "      <td>1034.219971</td>\n",
              "      <td>996.359985</td>\n",
              "      <td>1009.409973</td>\n",
              "      <td>1009.409973</td>\n",
              "      <td>2673500</td>\n",
              "    </tr>\n",
              "    <tr>\n",
              "      <th>3611</th>\n",
              "      <td>2018-12-21</td>\n",
              "      <td>1015.299988</td>\n",
              "      <td>1024.020020</td>\n",
              "      <td>973.690002</td>\n",
              "      <td>979.539978</td>\n",
              "      <td>979.539978</td>\n",
              "      <td>4596000</td>\n",
              "    </tr>\n",
              "    <tr>\n",
              "      <th>3612</th>\n",
              "      <td>2018-12-24</td>\n",
              "      <td>973.900024</td>\n",
              "      <td>1003.539978</td>\n",
              "      <td>970.109985</td>\n",
              "      <td>976.219971</td>\n",
              "      <td>976.219971</td>\n",
              "      <td>1590300</td>\n",
              "    </tr>\n",
              "    <tr>\n",
              "      <th>3613</th>\n",
              "      <td>2018-12-26</td>\n",
              "      <td>989.010010</td>\n",
              "      <td>1040.000000</td>\n",
              "      <td>983.000000</td>\n",
              "      <td>1039.459961</td>\n",
              "      <td>1039.459961</td>\n",
              "      <td>2373300</td>\n",
              "    </tr>\n",
              "    <tr>\n",
              "      <th>3614</th>\n",
              "      <td>2018-12-27</td>\n",
              "      <td>1017.150024</td>\n",
              "      <td>1043.890015</td>\n",
              "      <td>997.000000</td>\n",
              "      <td>1043.880005</td>\n",
              "      <td>1043.880005</td>\n",
              "      <td>2109800</td>\n",
              "    </tr>\n",
              "    <tr>\n",
              "      <th>3615</th>\n",
              "      <td>2018-12-28</td>\n",
              "      <td>1049.619995</td>\n",
              "      <td>1055.560059</td>\n",
              "      <td>1033.099976</td>\n",
              "      <td>1037.079956</td>\n",
              "      <td>1037.079956</td>\n",
              "      <td>1414800</td>\n",
              "    </tr>\n",
              "    <tr>\n",
              "      <th>3616</th>\n",
              "      <td>2018-12-31</td>\n",
              "      <td>1050.959961</td>\n",
              "      <td>1052.699951</td>\n",
              "      <td>1023.590027</td>\n",
              "      <td>1035.609985</td>\n",
              "      <td>1035.609985</td>\n",
              "      <td>1493300</td>\n",
              "    </tr>\n",
              "  </tbody>\n",
              "</table>\n",
              "</div>"
            ],
            "text/plain": [
              "            Date         Open         High  ...        Close    Adj Close   Volume\n",
              "3557  2018-10-04  1195.329956  1197.510010  ...  1168.189941  1168.189941  2209500\n",
              "3558  2018-10-05  1167.500000  1173.500000  ...  1157.349976  1157.349976  1184300\n",
              "3559  2018-10-08  1150.109985  1168.000000  ...  1148.969971  1148.969971  1932400\n",
              "3560  2018-10-09  1146.150024  1154.349976  ...  1138.819946  1138.819946  1308700\n",
              "3561  2018-10-10  1131.079956  1132.170044  ...  1081.219971  1081.219971  2675700\n",
              "3562  2018-10-11  1072.939941  1106.400024  ...  1079.319946  1079.319946  2949000\n",
              "3563  2018-10-12  1108.000000  1115.000000  ...  1110.079956  1110.079956  2101300\n",
              "3564  2018-10-15  1108.910034  1113.446045  ...  1092.250000  1092.250000  1372400\n",
              "3565  2018-10-16  1104.589966  1124.219971  ...  1121.280029  1121.280029  1928500\n",
              "3566  2018-10-17  1126.459961  1128.989990  ...  1115.689941  1115.689941  1467200\n",
              "3567  2018-10-18  1121.839966  1121.839966  ...  1087.969971  1087.969971  2094500\n",
              "3568  2018-10-19  1093.369995  1110.359985  ...  1096.459961  1096.459961  1267600\n",
              "3569  2018-10-22  1103.060059  1112.229980  ...  1101.160034  1101.160034  1514200\n",
              "3570  2018-10-23  1080.890015  1107.890015  ...  1103.689941  1103.689941  1848700\n",
              "3571  2018-10-24  1104.250000  1106.119995  ...  1050.709961  1050.709961  1982400\n",
              "3572  2018-10-25  1071.790039  1110.979980  ...  1095.569946  1095.569946  2545800\n",
              "3573  2018-10-26  1037.030029  1106.530029  ...  1071.469971  1071.469971  4187600\n",
              "3574  2018-10-29  1082.469971  1097.040039  ...  1020.080017  1020.080017  3880700\n",
              "3575  2018-10-30  1008.460022  1037.489990  ...  1036.209961  1036.209961  3212700\n",
              "3576  2018-10-31  1059.810059  1091.939941  ...  1076.770020  1076.770020  2529800\n",
              "3577  2018-11-01  1075.800049  1083.974976  ...  1070.000000  1070.000000  1482000\n",
              "3578  2018-11-02  1073.729980  1082.974976  ...  1057.790039  1057.790039  1839000\n",
              "3579  2018-11-05  1055.000000  1058.469971  ...  1040.089966  1040.089966  2441400\n",
              "3580  2018-11-06  1039.479980  1064.344971  ...  1055.810059  1055.810059  1233300\n",
              "3581  2018-11-07  1069.000000  1095.459961  ...  1093.390015  1093.390015  2058400\n",
              "3582  2018-11-08  1091.380005  1093.270020  ...  1082.400024  1082.400024  1488200\n",
              "3583  2018-11-09  1073.989990  1075.560059  ...  1066.150024  1066.150024  1343200\n",
              "3584  2018-11-12  1061.390015  1062.119995  ...  1038.630005  1038.630005  1471800\n",
              "3585  2018-11-13  1043.290039  1056.604980  ...  1036.050049  1036.050049  1513700\n",
              "3586  2018-11-14  1050.000000  1054.563965  ...  1043.660034  1043.660034  1565900\n",
              "3587  2018-11-15  1044.709961  1071.849976  ...  1064.709961  1064.709961  1836100\n",
              "3588  2018-11-16  1059.410034  1067.000000  ...  1061.489990  1061.489990  1658100\n",
              "3589  2018-11-19  1057.199951  1060.790039  ...  1020.000000  1020.000000  1858600\n",
              "3590  2018-11-20  1000.000000  1031.739990  ...  1025.760010  1025.760010  2449100\n",
              "3591  2018-11-21  1036.760010  1048.560059  ...  1037.609985  1037.609985  1534300\n",
              "3592  2018-11-23  1030.000000  1037.589966  ...  1023.880005  1023.880005   691500\n",
              "3593  2018-11-26  1038.349976  1049.310059  ...  1048.619995  1048.619995  1942800\n",
              "3594  2018-11-27  1041.000000  1057.579956  ...  1044.410034  1044.410034  1803200\n",
              "3595  2018-11-28  1048.760010  1086.839966  ...  1086.229980  1086.229980  2475400\n",
              "3596  2018-11-29  1076.079956  1094.244995  ...  1088.300049  1088.300049  1468900\n",
              "3597  2018-11-30  1089.069946  1095.569946  ...  1094.430054  1094.430054  2580200\n",
              "3598  2018-12-03  1123.140015  1124.650024  ...  1106.430054  1106.430054  1991200\n",
              "3599  2018-12-04  1103.119995  1104.420044  ...  1050.819946  1050.819946  2345200\n",
              "3600  2018-12-06  1034.260010  1071.199951  ...  1068.729980  1068.729980  2769200\n",
              "3601  2018-12-07  1060.010010  1075.260010  ...  1036.579956  1036.579956  2101200\n",
              "3602  2018-12-10  1035.050049  1048.449951  ...  1039.550049  1039.550049  1807700\n",
              "3603  2018-12-11  1056.489990  1060.599976  ...  1051.750000  1051.750000  1394700\n",
              "3604  2018-12-12  1068.000000  1081.650024  ...  1063.680054  1063.680054  1523800\n",
              "3605  2018-12-13  1068.069946  1079.760010  ...  1061.900024  1061.900024  1329800\n",
              "3606  2018-12-14  1049.979980  1062.599976  ...  1042.099976  1042.099976  1686600\n",
              "3607  2018-12-17  1037.510010  1053.150024  ...  1016.530029  1016.530029  2385400\n",
              "3608  2018-12-18  1026.089966  1049.479980  ...  1028.709961  1028.709961  2192500\n",
              "3609  2018-12-19  1033.989990  1062.000000  ...  1023.010010  1023.010010  2479300\n",
              "3610  2018-12-20  1018.130005  1034.219971  ...  1009.409973  1009.409973  2673500\n",
              "3611  2018-12-21  1015.299988  1024.020020  ...   979.539978   979.539978  4596000\n",
              "3612  2018-12-24   973.900024  1003.539978  ...   976.219971   976.219971  1590300\n",
              "3613  2018-12-26   989.010010  1040.000000  ...  1039.459961  1039.459961  2373300\n",
              "3614  2018-12-27  1017.150024  1043.890015  ...  1043.880005  1043.880005  2109800\n",
              "3615  2018-12-28  1049.619995  1055.560059  ...  1037.079956  1037.079956  1414800\n",
              "3616  2018-12-31  1050.959961  1052.699951  ...  1035.609985  1035.609985  1493300\n",
              "\n",
              "[60 rows x 7 columns]"
            ]
          },
          "metadata": {
            "tags": []
          },
          "execution_count": 147
        }
      ]
    },
    {
      "cell_type": "code",
      "metadata": {
        "id": "tkPBhncKvkNz",
        "colab_type": "code",
        "colab": {}
      },
      "source": [
        "past_60_days = data_train.tail(60)"
      ],
      "execution_count": 0,
      "outputs": []
    },
    {
      "cell_type": "code",
      "metadata": {
        "id": "2_1VQZs9vkTh",
        "colab_type": "code",
        "outputId": "d9d91d64-b35f-4e1c-9e61-fa29853e3fba",
        "colab": {
          "base_uri": "https://localhost:8080/",
          "height": 204
        }
      },
      "source": [
        "df = past_60_days.append(data_test, ignore_index = True)\n",
        "df = df.drop(['Date', 'Adj Close'], axis = 1)\n",
        "df.head()"
      ],
      "execution_count": 0,
      "outputs": [
        {
          "output_type": "execute_result",
          "data": {
            "text/html": [
              "<div>\n",
              "<style scoped>\n",
              "    .dataframe tbody tr th:only-of-type {\n",
              "        vertical-align: middle;\n",
              "    }\n",
              "\n",
              "    .dataframe tbody tr th {\n",
              "        vertical-align: top;\n",
              "    }\n",
              "\n",
              "    .dataframe thead th {\n",
              "        text-align: right;\n",
              "    }\n",
              "</style>\n",
              "<table border=\"1\" class=\"dataframe\">\n",
              "  <thead>\n",
              "    <tr style=\"text-align: right;\">\n",
              "      <th></th>\n",
              "      <th>Open</th>\n",
              "      <th>High</th>\n",
              "      <th>Low</th>\n",
              "      <th>Close</th>\n",
              "      <th>Volume</th>\n",
              "    </tr>\n",
              "  </thead>\n",
              "  <tbody>\n",
              "    <tr>\n",
              "      <th>0</th>\n",
              "      <td>1195.329956</td>\n",
              "      <td>1197.510010</td>\n",
              "      <td>1155.576050</td>\n",
              "      <td>1168.189941</td>\n",
              "      <td>2209500</td>\n",
              "    </tr>\n",
              "    <tr>\n",
              "      <th>1</th>\n",
              "      <td>1167.500000</td>\n",
              "      <td>1173.500000</td>\n",
              "      <td>1145.119995</td>\n",
              "      <td>1157.349976</td>\n",
              "      <td>1184300</td>\n",
              "    </tr>\n",
              "    <tr>\n",
              "      <th>2</th>\n",
              "      <td>1150.109985</td>\n",
              "      <td>1168.000000</td>\n",
              "      <td>1127.364014</td>\n",
              "      <td>1148.969971</td>\n",
              "      <td>1932400</td>\n",
              "    </tr>\n",
              "    <tr>\n",
              "      <th>3</th>\n",
              "      <td>1146.150024</td>\n",
              "      <td>1154.349976</td>\n",
              "      <td>1137.572021</td>\n",
              "      <td>1138.819946</td>\n",
              "      <td>1308700</td>\n",
              "    </tr>\n",
              "    <tr>\n",
              "      <th>4</th>\n",
              "      <td>1131.079956</td>\n",
              "      <td>1132.170044</td>\n",
              "      <td>1081.130005</td>\n",
              "      <td>1081.219971</td>\n",
              "      <td>2675700</td>\n",
              "    </tr>\n",
              "  </tbody>\n",
              "</table>\n",
              "</div>"
            ],
            "text/plain": [
              "          Open         High          Low        Close   Volume\n",
              "0  1195.329956  1197.510010  1155.576050  1168.189941  2209500\n",
              "1  1167.500000  1173.500000  1145.119995  1157.349976  1184300\n",
              "2  1150.109985  1168.000000  1127.364014  1148.969971  1932400\n",
              "3  1146.150024  1154.349976  1137.572021  1138.819946  1308700\n",
              "4  1131.079956  1132.170044  1081.130005  1081.219971  2675700"
            ]
          },
          "metadata": {
            "tags": []
          },
          "execution_count": 149
        }
      ]
    },
    {
      "cell_type": "code",
      "metadata": {
        "id": "Vw1IBQGYvkZU",
        "colab_type": "code",
        "outputId": "c4a50fdb-8e3a-4070-dd62-183e2b3720f7",
        "colab": {
          "base_uri": "https://localhost:8080/",
          "height": 136
        }
      },
      "source": [
        "inputs = scaler.transform(df)\n",
        "inputs"
      ],
      "execution_count": 0,
      "outputs": [
        {
          "output_type": "execute_result",
          "data": {
            "text/plain": [
              "array([[0.93805611, 0.93755773, 0.92220906, 0.91781776, 0.0266752 ],\n",
              "       [0.91527437, 0.91792904, 0.91350452, 0.90892169, 0.01425359],\n",
              "       [0.90103881, 0.91343268, 0.89872289, 0.90204445, 0.02331778],\n",
              "       ...,\n",
              "       [1.14680042, 1.17013431, 1.16695531, 1.170618  , 0.02025236],\n",
              "       [1.16069223, 1.17327356, 1.18092448, 1.17308002, 0.01409608],\n",
              "       [1.16643875, 1.18552001, 1.18755938, 1.18996954, 0.0105913 ]])"
            ]
          },
          "metadata": {
            "tags": []
          },
          "execution_count": 150
        }
      ]
    },
    {
      "cell_type": "code",
      "metadata": {
        "id": "bb5rM18Cv-0N",
        "colab_type": "code",
        "colab": {}
      },
      "source": [
        "X_test = []\n",
        "y_test = []\n",
        "\n",
        "for i in range(60, inputs.shape[0]):\n",
        "    X_test.append(inputs[i-60:i])\n",
        "    y_test.append(inputs[i, 0])\n"
      ],
      "execution_count": 0,
      "outputs": []
    },
    {
      "cell_type": "code",
      "metadata": {
        "id": "yluArXycvkhm",
        "colab_type": "code",
        "outputId": "003dd0d2-609f-4978-a99c-4749370723d6",
        "colab": {
          "base_uri": "https://localhost:8080/",
          "height": 34
        }
      },
      "source": [
        "X_test, y_test = np.array(X_test), np.array(y_test)\n",
        "X_test.shape, y_test.shape\n"
      ],
      "execution_count": 0,
      "outputs": [
        {
          "output_type": "execute_result",
          "data": {
            "text/plain": [
              "((279, 60, 5), (279,))"
            ]
          },
          "metadata": {
            "tags": []
          },
          "execution_count": 152
        }
      ]
    },
    {
      "cell_type": "code",
      "metadata": {
        "id": "0wlYAy2tvklv",
        "colab_type": "code",
        "colab": {}
      },
      "source": [
        "y_pred = regressior.predict(X_test)"
      ],
      "execution_count": 0,
      "outputs": []
    },
    {
      "cell_type": "code",
      "metadata": {
        "id": "AkbifWfpvkeM",
        "colab_type": "code",
        "outputId": "a219dadc-97a5-4eea-8146-8cf4db10c558",
        "colab": {
          "base_uri": "https://localhost:8080/",
          "height": 51
        }
      },
      "source": [
        "scaler.scale_"
      ],
      "execution_count": 0,
      "outputs": [
        {
          "output_type": "execute_result",
          "data": {
            "text/plain": [
              "array([8.18605127e-04, 8.17521128e-04, 8.32487534e-04, 8.20673293e-04,\n",
              "       1.21162775e-08])"
            ]
          },
          "metadata": {
            "tags": []
          },
          "execution_count": 154
        }
      ]
    },
    {
      "cell_type": "code",
      "metadata": {
        "id": "Y1BtRLPYvkcu",
        "colab_type": "code",
        "outputId": "49dfab88-713e-4523-fcde-5e0d3b01fae0",
        "colab": {
          "base_uri": "https://localhost:8080/",
          "height": 34
        }
      },
      "source": [
        "scale = 1/8.16599709e-04\n",
        "scale"
      ],
      "execution_count": 0,
      "outputs": [
        {
          "output_type": "execute_result",
          "data": {
            "text/plain": [
              "1224.5901988191868"
            ]
          },
          "metadata": {
            "tags": []
          },
          "execution_count": 155
        }
      ]
    },
    {
      "cell_type": "code",
      "metadata": {
        "id": "CebUUwAQvkXy",
        "colab_type": "code",
        "colab": {}
      },
      "source": [
        "y_pred1 = y_pred*scale\n",
        "y_test1 = y_test*scale"
      ],
      "execution_count": 0,
      "outputs": []
    },
    {
      "cell_type": "code",
      "metadata": {
        "id": "Bxd6grt9vkR8",
        "colab_type": "code",
        "colab": {}
      },
      "source": [
        ""
      ],
      "execution_count": 0,
      "outputs": []
    },
    {
      "cell_type": "markdown",
      "metadata": {
        "id": "5Ntmq-2OwNLe",
        "colab_type": "text"
      },
      "source": [
        "Visulization"
      ]
    },
    {
      "cell_type": "code",
      "metadata": {
        "id": "dFi1YC_XvkMP",
        "colab_type": "code",
        "outputId": "ed97ed72-ac9a-4f00-d502-91d174ba8576",
        "colab": {
          "base_uri": "https://localhost:8080/",
          "height": 350
        }
      },
      "source": [
        "\n",
        "# Visualising the results\n",
        "plt.figure(figsize=(14,5))\n",
        "plt.plot(y_test1, color = 'red', label = 'Real Google Stock Price')\n",
        "plt.plot(y_pred1, color = 'blue', label = 'Predicted Google Stock Price')\n",
        "plt.title('Google Stock Price Prediction')\n",
        "plt.xlabel('Time')\n",
        "plt.ylabel('Google Stock Price')\n",
        "plt.legend()\n",
        "plt.show()"
      ],
      "execution_count": 0,
      "outputs": [
        {
          "output_type": "display_data",
          "data": {
            "image/png": "[encoded data removed]",
            "text/plain": [
              "<Figure size 1008x360 with 1 Axes>"
            ]
          },
          "metadata": {
            "tags": []
          }
        }
      ]
    },
    {
      "cell_type": "code",
      "metadata": {
        "id": "C5vKU8IDvkJi",
        "colab_type": "code",
        "colab": {}
      },
      "source": [
        ""
      ],
      "execution_count": 0,
      "outputs": []
    },
    {
      "cell_type": "code",
      "metadata": {
        "id": "quTqjuNdKzla",
        "colab_type": "code",
        "colab": {}
      },
      "source": [
        ""
      ],
      "execution_count": 0,
      "outputs": []
    },
    {
      "cell_type": "code",
      "metadata": {
        "id": "7ZT4ERpwKz62",
        "colab_type": "code",
        "colab": {}
      },
      "source": [
        ""
      ],
      "execution_count": 0,
      "outputs": []
    },
    {
      "cell_type": "code",
      "metadata": {
        "id": "O3DwWAwWKz-o",
        "colab_type": "code",
        "colab": {}
      },
      "source": [
        ""
      ],
      "execution_count": 0,
      "outputs": []
    },
    {
      "cell_type": "code",
      "metadata": {
        "id": "KSJzIF_sKz47",
        "colab_type": "code",
        "colab": {}
      },
      "source": [
        ""
      ],
      "execution_count": 0,
      "outputs": []
    }
  ]
}